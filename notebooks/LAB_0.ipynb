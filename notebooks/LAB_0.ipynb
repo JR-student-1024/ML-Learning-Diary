{
 "cells": [
  {
   "cell_type": "markdown",
   "id": "7b718096-1730-4731-8579-50e9e3c54a95",
   "metadata": {},
   "source": [
    "# WEEK0  \n",
    "2025.9.13  \n",
    "ML基础\n",
    "---\n",
    "\n",
    "## 学习内容:  \n",
    "\n",
    "什么是ML?\n",
    ">\"ML is the field of study that gives computers the ability without being explicity programmed.\"\n",
    "\n",
    "简单来说就是放入素材交给计算机训练, 让计算机自己输出正确的答案而不需要人为地写非常精确的代码.\n",
    "\n",
    "机器学习有多个算法:   \n",
    "- supervised learning\n",
    "- unspervised learning\n",
    "- recommentder systems\n",
    "- reinforcement learning\n",
    "\n",
    "---\n",
    "\n",
    "### Supervised Learning  \n",
    "- **regression**: predict a number from infinitly many possible numbers.  \n",
    "- **classification**: predict cateegories or classes, like determining whether an animal in a image is a cat or dog, \n",
    "or whether a tumor is malignant or benign. The final prediction may not be a number, but a category.\n",
    "\n",
    "### Unsupervised Learning (super supervised learning)  \n",
    "从给的无标签数据中找到一些共性. 在没有正确答案的情况下找到某一个输入的特点.  \n",
    "Data only comes with input X, but not output Y. Algorithm has to find structure in data.  \n",
    "\n",
    "- **Cluster:** group similar data or points together. like related news under the news you have seen, \n",
    "alternatively, it is possible to autonomously determine which trait a DNA segment corresponds to by analyzing the DNA of many people.\n",
    "- **Anomaly detection**: find unusual events.  \n",
    "- **Diamensionality reduction**: Take a big data set, and almost magically compress it to much smaller data set, while losing as little information as possible."
   ]
  },
  {
   "cell_type": "code",
   "execution_count": null,
   "id": "dbe8b721-05f9-4940-881e-e462a3c6a85e",
   "metadata": {},
   "outputs": [],
   "source": []
  }
 ],
 "metadata": {
  "kernelspec": {
   "display_name": "Python 3 (ipykernel)",
   "language": "python",
   "name": "python3"
  },
  "language_info": {
   "codemirror_mode": {
    "name": "ipython",
    "version": 3
   },
   "file_extension": ".py",
   "mimetype": "text/x-python",
   "name": "python",
   "nbconvert_exporter": "python",
   "pygments_lexer": "ipython3",
   "version": "3.11.13"
  }
 },
 "nbformat": 4,
 "nbformat_minor": 5
}
