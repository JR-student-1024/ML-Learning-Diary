{
 "cells": [
  {
   "cell_type": "markdown",
   "id": "7b718096-1730-4731-8579-50e9e3c54a95",
   "metadata": {},
   "source": [
    "# WEEK0  \n",
    "2025.9.13  \n",
    "ML基础\n",
    "---\n",
    "\n",
    "## 学习内容:  \n",
    "\n",
    "什么是ML?\n",
    ">\"ML is the field of study that gives computers the ability without being explicity programmed.\"\n",
    "\n",
    "简单来说就是放入素材交给计算机训练, 让计算机自己输出正确的答案而不需要人为地写非常精确的代码.\n",
    "\n",
    "机器学习有多个算法:   \n",
    "- supervised learning\n",
    "- unspervised learning\n",
    "- recommentder systems\n",
    "- reinforcement learning\n",
    "\n",
    "---\n",
    "\n",
    "### Supervised Learning  \n",
    "- **regression**: predict a number from infinitly many possible numbers.  \n",
    "- **classification**: predict cateegories or classes, like determining whether an animal in a image is a cat or dog, \n",
    "or whether a tumor is malignant or benign. The final prediction may not be a number, but a category.\n",
    "\n",
    "### Unsupervised Learning (super supervised learning)  \n",
    "从给的无标签数据中找到一些共性. 在没有正确答案的情况下找到某一个输入的特点.  \n",
    "Data only comes with input X, but not output Y. Algorithm has to find structure in data.  \n",
    "\n",
    "- **Cluster:** group similar data or points together. like related news under the news you have seen, \n",
    "alternatively, it is possible to autonomously determine which trait a DNA segment corresponds to by analyzing the DNA of many people.\n",
    "- **Anomaly detection**: find unusual events.  \n",
    "- **Diamensionality reduction**: Take a big data set, and almost magically compress it to much smaller data set, while losing as little information as possible."
   ]
  },
  {
   "cell_type": "markdown",
   "id": "051a1031-0065-43ee-993e-dc0b3d874322",
   "metadata": {},
   "source": [
    "## Model Part 1\n",
    "### Linear Regression Model  \n",
    "Fit a stright line to your data.  \n",
    "If you want to address some problems of numerical prediction by a supervised learning model, you can use linear regression model. 当然也有其他的模型能够用来解决regression问题。在classification中我是只有有限个输出， 而在regression中我们可以得到无限个数字，这是两个之间很直观的区别。"
   ]
  },
  {
   "cell_type": "markdown",
   "id": "5b92d40d-8194-4bc9-bdab-3d1654e54796",
   "metadata": {},
   "source": [
    "In the simplest regression model, the linear regression model, we can fit the entire model to**f= wx + b**. The parameters w and b are dependent on the training set. The simplest example of a linear model is linear regression with one variable, also known as univariable linear regression, where \"one variable\" refers to a single feature x."
   ]
  },
  {
   "cell_type": "markdown",
   "id": "d65050ba-770a-4498-ab40-f67b23c04721",
   "metadata": {},
   "source": [
    "## Terminology\n",
    "- **Training set**: Data set used to train the model called training set.\n",
    "- **x**: \"input\" variable or feature.\n",
    "- **y**: \"ouput\" variable or \"target\" variable.\n",
    "- **m**: number of training examples.\n",
    "- **(x,y)**: sigle training example.\n",
    "- $\\boldsymbol{(x^{(i)},y^{(i)})}$: $i^{th}$ training example. 一个训练集有很多个数据，我们为了引用特定的数据就需要加上superscript\n",
    "- $\\boldsymbol{\\hat{y}}$: it is the estimated value of y, which is obtained from the model (a function) after inputting the variables.\n",
    "- **f_{w,b} = wx + b**, or we can omit subscript (w,b). w - wright. b - bias"
   ]
  },
  {
   "cell_type": "code",
   "execution_count": 1,
   "id": "41f58cbe-aa59-4f40-a279-179b51b326cb",
   "metadata": {},
   "outputs": [],
   "source": []
  },
  {
   "cell_type": "markdown",
   "id": "4e9ff32e-23b4-4d37-8e70-e854e079c6b3",
   "metadata": {},
   "source": []
  }
 ],
 "metadata": {
  "kernelspec": {
   "display_name": "Python 3 (ipykernel)",
   "language": "python",
   "name": "python3"
  },
  "language_info": {
   "codemirror_mode": {
    "name": "ipython",
    "version": 3
   },
   "file_extension": ".py",
   "mimetype": "text/x-python",
   "name": "python",
   "nbconvert_exporter": "python",
   "pygments_lexer": "ipython3",
   "version": "3.11.13"
  }
 },
 "nbformat": 4,
 "nbformat_minor": 5
}
